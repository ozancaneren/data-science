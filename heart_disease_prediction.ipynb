{
 "cells": [
  {
   "cell_type": "markdown",
   "metadata": {},
   "source": [
    "**Import the necessary libraries**"
   ]
  },
  {
   "cell_type": "code",
   "execution_count": 10,
   "metadata": {},
   "outputs": [],
   "source": [
    "import pandas as pd\n",
    "import numpy as np\n",
    "from sklearn.tree import DecisionTreeClassifier # Import Decision Tree Classifier\n",
    "from sklearn.model_selection import train_test_split # Import train_test_split function\n",
    "from sklearn import metrics #Import scikit-learn metrics module for accuracy calculation\n",
    "from sklearn.metrics import roc_auc_score\n",
    "from sklearn.metrics import confusion_matrix\n",
    "from sklearn.metrics import precision_score\n",
    "from sklearn.metrics import recall_score\n",
    "from sklearn.metrics import f1_score\n",
    "from sklearn.ensemble import BaggingClassifier\n",
    "from sklearn.ensemble import RandomForestClassifier\n",
    "from sklearn.ensemble import AdaBoostClassifier\n",
    "from sklearn.ensemble import GradientBoostingClassifier"
   ]
  },
  {
   "cell_type": "markdown",
   "metadata": {},
   "source": [
    "**Read the data**"
   ]
  },
  {
   "cell_type": "code",
   "execution_count": 11,
   "metadata": {},
   "outputs": [],
   "source": [
    "df = pd.read_csv('framingham.csv', encoding='latin-1')"
   ]
  },
  {
   "cell_type": "markdown",
   "metadata": {},
   "source": [
    "**Let's have a look at the data**"
   ]
  },
  {
   "cell_type": "code",
   "execution_count": 12,
   "metadata": {},
   "outputs": [
    {
     "data": {
      "text/html": [
       "<div>\n",
       "<style scoped>\n",
       "    .dataframe tbody tr th:only-of-type {\n",
       "        vertical-align: middle;\n",
       "    }\n",
       "\n",
       "    .dataframe tbody tr th {\n",
       "        vertical-align: top;\n",
       "    }\n",
       "\n",
       "    .dataframe thead th {\n",
       "        text-align: right;\n",
       "    }\n",
       "</style>\n",
       "<table border=\"1\" class=\"dataframe\">\n",
       "  <thead>\n",
       "    <tr style=\"text-align: right;\">\n",
       "      <th></th>\n",
       "      <th>male</th>\n",
       "      <th>age</th>\n",
       "      <th>education</th>\n",
       "      <th>currentSmoker</th>\n",
       "      <th>cigsPerDay</th>\n",
       "      <th>BPMeds</th>\n",
       "      <th>prevalentStroke</th>\n",
       "      <th>prevalentHyp</th>\n",
       "      <th>diabetes</th>\n",
       "      <th>totChol</th>\n",
       "      <th>sysBP</th>\n",
       "      <th>diaBP</th>\n",
       "      <th>BMI</th>\n",
       "      <th>heartRate</th>\n",
       "      <th>glucose</th>\n",
       "      <th>TenYearCHD</th>\n",
       "    </tr>\n",
       "  </thead>\n",
       "  <tbody>\n",
       "    <tr>\n",
       "      <th>0</th>\n",
       "      <td>1</td>\n",
       "      <td>39</td>\n",
       "      <td>4.0</td>\n",
       "      <td>0</td>\n",
       "      <td>0.0</td>\n",
       "      <td>0.0</td>\n",
       "      <td>0</td>\n",
       "      <td>0</td>\n",
       "      <td>0</td>\n",
       "      <td>195.0</td>\n",
       "      <td>106.0</td>\n",
       "      <td>70.0</td>\n",
       "      <td>26.97</td>\n",
       "      <td>80.0</td>\n",
       "      <td>77.0</td>\n",
       "      <td>0</td>\n",
       "    </tr>\n",
       "    <tr>\n",
       "      <th>1</th>\n",
       "      <td>0</td>\n",
       "      <td>46</td>\n",
       "      <td>2.0</td>\n",
       "      <td>0</td>\n",
       "      <td>0.0</td>\n",
       "      <td>0.0</td>\n",
       "      <td>0</td>\n",
       "      <td>0</td>\n",
       "      <td>0</td>\n",
       "      <td>250.0</td>\n",
       "      <td>121.0</td>\n",
       "      <td>81.0</td>\n",
       "      <td>28.73</td>\n",
       "      <td>95.0</td>\n",
       "      <td>76.0</td>\n",
       "      <td>0</td>\n",
       "    </tr>\n",
       "    <tr>\n",
       "      <th>2</th>\n",
       "      <td>1</td>\n",
       "      <td>48</td>\n",
       "      <td>1.0</td>\n",
       "      <td>1</td>\n",
       "      <td>20.0</td>\n",
       "      <td>0.0</td>\n",
       "      <td>0</td>\n",
       "      <td>0</td>\n",
       "      <td>0</td>\n",
       "      <td>245.0</td>\n",
       "      <td>127.5</td>\n",
       "      <td>80.0</td>\n",
       "      <td>25.34</td>\n",
       "      <td>75.0</td>\n",
       "      <td>70.0</td>\n",
       "      <td>0</td>\n",
       "    </tr>\n",
       "    <tr>\n",
       "      <th>3</th>\n",
       "      <td>0</td>\n",
       "      <td>61</td>\n",
       "      <td>3.0</td>\n",
       "      <td>1</td>\n",
       "      <td>30.0</td>\n",
       "      <td>0.0</td>\n",
       "      <td>0</td>\n",
       "      <td>1</td>\n",
       "      <td>0</td>\n",
       "      <td>225.0</td>\n",
       "      <td>150.0</td>\n",
       "      <td>95.0</td>\n",
       "      <td>28.58</td>\n",
       "      <td>65.0</td>\n",
       "      <td>103.0</td>\n",
       "      <td>1</td>\n",
       "    </tr>\n",
       "    <tr>\n",
       "      <th>4</th>\n",
       "      <td>0</td>\n",
       "      <td>46</td>\n",
       "      <td>3.0</td>\n",
       "      <td>1</td>\n",
       "      <td>23.0</td>\n",
       "      <td>0.0</td>\n",
       "      <td>0</td>\n",
       "      <td>0</td>\n",
       "      <td>0</td>\n",
       "      <td>285.0</td>\n",
       "      <td>130.0</td>\n",
       "      <td>84.0</td>\n",
       "      <td>23.10</td>\n",
       "      <td>85.0</td>\n",
       "      <td>85.0</td>\n",
       "      <td>0</td>\n",
       "    </tr>\n",
       "  </tbody>\n",
       "</table>\n",
       "</div>"
      ],
      "text/plain": [
       "   male  age  education  currentSmoker  cigsPerDay  BPMeds  prevalentStroke  \\\n",
       "0     1   39        4.0              0         0.0     0.0                0   \n",
       "1     0   46        2.0              0         0.0     0.0                0   \n",
       "2     1   48        1.0              1        20.0     0.0                0   \n",
       "3     0   61        3.0              1        30.0     0.0                0   \n",
       "4     0   46        3.0              1        23.0     0.0                0   \n",
       "\n",
       "   prevalentHyp  diabetes  totChol  sysBP  diaBP    BMI  heartRate  glucose  \\\n",
       "0             0         0    195.0  106.0   70.0  26.97       80.0     77.0   \n",
       "1             0         0    250.0  121.0   81.0  28.73       95.0     76.0   \n",
       "2             0         0    245.0  127.5   80.0  25.34       75.0     70.0   \n",
       "3             1         0    225.0  150.0   95.0  28.58       65.0    103.0   \n",
       "4             0         0    285.0  130.0   84.0  23.10       85.0     85.0   \n",
       "\n",
       "   TenYearCHD  \n",
       "0           0  \n",
       "1           0  \n",
       "2           0  \n",
       "3           1  \n",
       "4           0  "
      ]
     },
     "execution_count": 12,
     "metadata": {},
     "output_type": "execute_result"
    }
   ],
   "source": [
    "df.head()"
   ]
  },
  {
   "cell_type": "markdown",
   "metadata": {},
   "source": [
    "**Check the data for missing values**"
   ]
  },
  {
   "cell_type": "code",
   "execution_count": 9,
   "metadata": {},
   "outputs": [
    {
     "data": {
      "text/plain": [
       "male                 0\n",
       "age                  0\n",
       "education          105\n",
       "currentSmoker        0\n",
       "cigsPerDay          29\n",
       "BPMeds              53\n",
       "prevalentStroke      0\n",
       "prevalentHyp         0\n",
       "diabetes             0\n",
       "totChol             50\n",
       "sysBP                0\n",
       "diaBP                0\n",
       "BMI                 19\n",
       "heartRate            1\n",
       "glucose            388\n",
       "TenYearCHD           0\n",
       "dtype: int64"
      ]
     },
     "execution_count": 9,
     "metadata": {},
     "output_type": "execute_result"
    }
   ],
   "source": [
    "df.isna().sum()"
   ]
  },
  {
   "cell_type": "markdown",
   "metadata": {},
   "source": [
    "**Fill out the the missing values for all columns except \"cigsPerDay\"**"
   ]
  },
  {
   "cell_type": "code",
   "execution_count": null,
   "metadata": {},
   "outputs": [],
   "source": [
    "df['BPMeds'].fillna(0, inplace = True)\n",
    "df['glucose'].fillna(df.glucose.mean(), inplace = True)\n",
    "df['totChol'].fillna(df.totChol.mean(), inplace = True)\n",
    "df['education'].fillna(1, inplace = True)\n",
    "df['BMI'].fillna(df.BMI.mean(), inplace = True)\n",
    "df['heartRate'].fillna(df.heartRate.mean(), inplace = True)"
   ]
  },
  {
   "cell_type": "markdown",
   "metadata": {},
   "source": [
    "**Drop the rows that stil have missing values (for the columns \"cigsPerDay\")**"
   ]
  },
  {
   "cell_type": "code",
   "execution_count": null,
   "metadata": {},
   "outputs": [],
   "source": [
    "df.dropna(inplace= True)"
   ]
  },
  {
   "cell_type": "markdown",
   "metadata": {},
   "source": [
    "**Create dummy variables**"
   ]
  },
  {
   "cell_type": "code",
   "execution_count": null,
   "metadata": {},
   "outputs": [],
   "source": [
    "df = pd.get_dummies(df)"
   ]
  },
  {
   "cell_type": "markdown",
   "metadata": {},
   "source": [
    "**Split the data as Train and Test**"
   ]
  },
  {
   "cell_type": "code",
   "execution_count": null,
   "metadata": {},
   "outputs": [],
   "source": [
    "labels = np.array(df['TenYearCHD'])\n",
    "df= df.drop('TenYearCHD', axis = 1)\n",
    "    \n",
    "    \n",
    "train_x, test_x, train_y, test_y = train_test_split(df, labels, test_size = 0.25, random_state = 42)\n",
    "\n",
    "print (\"Train_x Shape: \",train_x.shape)\n",
    "print (\"Train_y Shape: \", train_y.shape)\n",
    "print (\"Test_x Shape: \", test_x.shape)\n",
    "print (\"Test_y Shape: \", test_y.shape)"
   ]
  },
  {
   "cell_type": "markdown",
   "metadata": {},
   "source": [
    "**Train a Decision Tree Classifier and make predictions**"
   ]
  },
  {
   "cell_type": "code",
   "execution_count": 3,
   "metadata": {},
   "outputs": [
    {
     "name": "stdout",
     "output_type": "stream",
     "text": [
      "[[751 127]\n",
      " [124  51]]\n",
      "Accuracy: 0.761633428300095\n",
      "AUC Score: 0.5733908232997071\n",
      "Precision: 0.28651685393258425\n",
      "Recall: 0.2914285714285714\n",
      "F1 Score: 0.28895184135977336\n"
     ]
    }
   ],
   "source": [
    "# Create a Decision Tree classifer object\n",
    "clf = DecisionTreeClassifier(random_state=42)\n",
    "\n",
    "# Train Decision Tree Classifer\n",
    "clf = clf.fit(train_x,train_y)\n",
    "\n",
    "#Predict the response for test dataset\n",
    "y_pred1 = clf.predict(test_x)\n",
    "\n",
    "print(confusion_matrix(test_y, y_pred1))\n",
    "print(\"Accuracy:\",metrics.accuracy_score(test_y, y_pred1))\n",
    "print (\"AUC Score:\", roc_auc_score(test_y, y_pred1))\n",
    "print (\"Precision:\", precision_score(test_y, y_pred1))\n",
    "print (\"Recall:\", recall_score(test_y, y_pred1))\n",
    "print (\"F1 Score:\", f1_score(test_y, y_pred1))"
   ]
  },
  {
   "cell_type": "markdown",
   "metadata": {},
   "source": [
    "**Train a Bagged Decision Trees Classifier and make predictions**"
   ]
  },
  {
   "cell_type": "code",
   "execution_count": 4,
   "metadata": {},
   "outputs": [
    {
     "name": "stdout",
     "output_type": "stream",
     "text": [
      "[[861  17]\n",
      " [156  19]]\n",
      "Accuracy: 0.835707502374169\n",
      "AUC Score: 0.5446046208916369\n",
      "Precision: 0.5277777777777778\n",
      "Recall: 0.10857142857142857\n",
      "F1 Score: 0.18009478672985785\n"
     ]
    }
   ],
   "source": [
    "# Create a Bagging Classifer object\n",
    "bgc = BaggingClassifier(base_estimator=clf, n_estimators=100, random_state=42)\n",
    "\n",
    "# Train Decision Tree Classifer\n",
    "bgc = bgc.fit(train_x,train_y)\n",
    "\n",
    "#Predict the response for test dataset\n",
    "y_pred2 = bgc.predict(test_x)\n",
    "\n",
    "print(confusion_matrix(test_y, y_pred2))\n",
    "print(\"Accuracy:\",metrics.accuracy_score(test_y, y_pred2))\n",
    "print (\"AUC Score:\", roc_auc_score(test_y, y_pred2))\n",
    "print (\"Precision:\", precision_score(test_y, y_pred2))\n",
    "print (\"Recall:\", recall_score(test_y, y_pred2))\n",
    "print (\"F1 Score:\", f1_score(test_y, y_pred2))"
   ]
  },
  {
   "cell_type": "markdown",
   "metadata": {},
   "source": [
    "**Train a Random Forest Classifier and make predictions**"
   ]
  },
  {
   "cell_type": "code",
   "execution_count": 5,
   "metadata": {},
   "outputs": [
    {
     "name": "stdout",
     "output_type": "stream",
     "text": [
      "[[865  13]\n",
      " [162  13]]\n",
      "Accuracy: 0.8338081671415005\n",
      "AUC Score: 0.5297396680767978\n",
      "Precision: 0.5\n",
      "Recall: 0.07428571428571429\n",
      "F1 Score: 0.12935323383084577\n"
     ]
    }
   ],
   "source": [
    "# Create a Random Forest Classifer object\n",
    "rfc = RandomForestClassifier(n_estimators=100, max_features=4, random_state=42)\n",
    "\n",
    "# Train Random Forest Classifer\n",
    "rfc = rfc.fit(train_x,train_y)\n",
    "\n",
    "#Predict the response for test dataset\n",
    "y_pred3 = rfc.predict(test_x)\n",
    "\n",
    "print(confusion_matrix(test_y, y_pred3))\n",
    "print(\"Accuracy:\",metrics.accuracy_score(test_y, y_pred3))\n",
    "print (\"AUC Score:\", roc_auc_score(test_y, y_pred3))\n",
    "print (\"Precision:\", precision_score(test_y, y_pred3))\n",
    "print (\"Recall:\", recall_score(test_y, y_pred3))\n",
    "print (\"F1 Score:\", f1_score(test_y, y_pred3))"
   ]
  },
  {
   "cell_type": "markdown",
   "metadata": {},
   "source": [
    "**Train an Adaptive Boosting Classifier and make predictions**"
   ]
  },
  {
   "cell_type": "code",
   "execution_count": 6,
   "metadata": {},
   "outputs": [
    {
     "name": "stdout",
     "output_type": "stream",
     "text": [
      "[[862  16]\n",
      " [154  21]]\n",
      "Accuracy: 0.8385565052231719\n",
      "AUC Score: 0.5508883826879272\n",
      "Precision: 0.5675675675675675\n",
      "Recall: 0.12\n",
      "F1 Score: 0.19811320754716982\n"
     ]
    }
   ],
   "source": [
    "# Create an Adaptive Boosting Classifer object\n",
    "abc = AdaBoostClassifier(n_estimators=100, random_state=42)\n",
    "\n",
    "# Train Adaptive Boosting Classifier\n",
    "abc = abc.fit(train_x,train_y)\n",
    "\n",
    "#Predict the response for test dataset\n",
    "y_pred4 = abc.predict(test_x)\n",
    "\n",
    "print(confusion_matrix(test_y, y_pred4))\n",
    "print(\"Accuracy:\",metrics.accuracy_score(test_y, y_pred4))\n",
    "print (\"AUC Score:\", roc_auc_score(test_y, y_pred4))\n",
    "print (\"Precision:\", precision_score(test_y, y_pred4))\n",
    "print (\"Recall:\", recall_score(test_y, y_pred4))\n",
    "print (\"F1 Score:\", f1_score(test_y, y_pred4))"
   ]
  },
  {
   "cell_type": "markdown",
   "metadata": {},
   "source": [
    "**Train a Gradient Boosting Classifier and make predictions**"
   ]
  },
  {
   "cell_type": "code",
   "execution_count": 7,
   "metadata": {},
   "outputs": [
    {
     "name": "stdout",
     "output_type": "stream",
     "text": [
      "[[862  16]\n",
      " [160  15]]\n",
      "Accuracy: 0.8328584995251662\n",
      "AUC Score: 0.5337455255450699\n",
      "Precision: 0.4838709677419355\n",
      "Recall: 0.08571428571428572\n",
      "F1 Score: 0.14563106796116504\n"
     ]
    }
   ],
   "source": [
    "# Create a Gradient Boosting Classifer object\n",
    "sgb = GradientBoostingClassifier(n_estimators=100, random_state=42)\n",
    "\n",
    "# Train Gradient Boosting Classifier\n",
    "sgb = sgb.fit(train_x,train_y)\n",
    "\n",
    "#Predict the response for test dataset\n",
    "y_pred5 = sgb.predict(test_x)\n",
    "\n",
    "print(confusion_matrix(test_y, y_pred5))\n",
    "print(\"Accuracy:\",metrics.accuracy_score(test_y, y_pred5))\n",
    "print (\"AUC Score:\", roc_auc_score(test_y, y_pred5))\n",
    "print (\"Precision:\", precision_score(test_y, y_pred5))\n",
    "print (\"Recall:\", recall_score(test_y, y_pred5))\n",
    "print (\"F1 Score:\", f1_score(test_y, y_pred5))"
   ]
  },
  {
   "cell_type": "markdown",
   "metadata": {},
   "source": [
    "**Create a custom ensemble method for prediction so that if any of the 5 main classifiers classifies a row as 1, than it's labeled as 1**"
   ]
  },
  {
   "cell_type": "code",
   "execution_count": 8,
   "metadata": {},
   "outputs": [],
   "source": [
    "y_pred_ensemble = y_pred1 + y_pred2 + y_pred3 + y_pred4 + y_pred5\n",
    "\n",
    "for i in range(len(y_pred_ensemble)):\n",
    "    if y_pred_ensemble[i] > 0:\n",
    "        y_pred_ensemble[i] = 1\n",
    "    else:\n",
    "        y_pred_ensemble[i] = 0"
   ]
  },
  {
   "cell_type": "markdown",
   "metadata": {},
   "source": [
    "**Calculate and print the accuracy metrics for the custom ensemble method**"
   ]
  },
  {
   "cell_type": "code",
   "execution_count": 9,
   "metadata": {},
   "outputs": [
    {
     "name": "stdout",
     "output_type": "stream",
     "text": [
      "[[738 140]\n",
      " [109  66]]\n",
      "Accuracy: 0.7635327635327636\n",
      "AUC Score: 0.6088447770907908\n",
      "Precision: 0.32038834951456313\n",
      "Recall: 0.37714285714285717\n",
      "F1 Score: 0.3464566929133859\n"
     ]
    }
   ],
   "source": [
    "print(confusion_matrix(test_y, y_pred_ensemble))\n",
    "print(\"Accuracy:\",metrics.accuracy_score(test_y, y_pred_ensemble))\n",
    "print (\"AUC Score:\", roc_auc_score(test_y, y_pred_ensemble))\n",
    "print (\"Precision:\", precision_score(test_y, y_pred_ensemble))\n",
    "print (\"Recall:\", recall_score(test_y, y_pred_ensemble))\n",
    "print (\"F1 Score:\", f1_score(test_y, y_pred_ensemble))"
   ]
  },
  {
   "cell_type": "markdown",
   "metadata": {},
   "source": [
    "**The ROC AUC Score of the final ensemble model is larger than the AUC Scores of the traditional classification models.**"
   ]
  },
  {
   "cell_type": "code",
   "execution_count": null,
   "metadata": {},
   "outputs": [],
   "source": []
  }
 ],
 "metadata": {
  "kernelspec": {
   "display_name": "Python 3",
   "language": "python",
   "name": "python3"
  },
  "language_info": {
   "codemirror_mode": {
    "name": "ipython",
    "version": 3
   },
   "file_extension": ".py",
   "mimetype": "text/x-python",
   "name": "python",
   "nbconvert_exporter": "python",
   "pygments_lexer": "ipython3",
   "version": "3.7.6"
  }
 },
 "nbformat": 4,
 "nbformat_minor": 2
}
